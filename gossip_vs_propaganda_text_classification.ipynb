{
  "nbformat": 4,
  "nbformat_minor": 0,
  "metadata": {
    "accelerator": "GPU",
    "colab": {
      "name": "gossip_vs_propaganda_text_classification.ipynb",
      "provenance": [],
      "collapsed_sections": [],
      "toc_visible": true,
      "authorship_tag": "ABX9TyO9gPXT8/r8V5Zai485XWPO",
      "include_colab_link": true
    },
    "kernelspec": {
      "display_name": "Python 3",
      "name": "python3"
    },
    "language_info": {
      "name": "python"
    },
    "widgets": {
      "application/vnd.jupyter.widget-state+json": {
        "d332742e78e0458d9285374e91a08d13": {
          "model_module": "@jupyter-widgets/controls",
          "model_name": "HBoxModel",
          "model_module_version": "1.5.0",
          "state": {
            "_view_name": "HBoxView",
            "_dom_classes": [],
            "_model_name": "HBoxModel",
            "_view_module": "@jupyter-widgets/controls",
            "_model_module_version": "1.5.0",
            "_view_count": null,
            "_view_module_version": "1.5.0",
            "box_style": "",
            "layout": "IPY_MODEL_19b6996719a746fd98ab07dea8d57d78",
            "_model_module": "@jupyter-widgets/controls",
            "children": [
              "IPY_MODEL_0bd3c5a3edef493d99121f56707b32ee",
              "IPY_MODEL_c870dea98a1e4866867b258eb33a8bac",
              "IPY_MODEL_c0f9a7a346cd4afbb317ff85d809674f"
            ]
          }
        },
        "19b6996719a746fd98ab07dea8d57d78": {
          "model_module": "@jupyter-widgets/base",
          "model_name": "LayoutModel",
          "model_module_version": "1.2.0",
          "state": {
            "_view_name": "LayoutView",
            "grid_template_rows": null,
            "right": null,
            "justify_content": null,
            "_view_module": "@jupyter-widgets/base",
            "overflow": null,
            "_model_module_version": "1.2.0",
            "_view_count": null,
            "flex_flow": null,
            "width": null,
            "min_width": null,
            "border": null,
            "align_items": null,
            "bottom": null,
            "_model_module": "@jupyter-widgets/base",
            "top": null,
            "grid_column": null,
            "overflow_y": null,
            "overflow_x": null,
            "grid_auto_flow": null,
            "grid_area": null,
            "grid_template_columns": null,
            "flex": null,
            "_model_name": "LayoutModel",
            "justify_items": null,
            "grid_row": null,
            "max_height": null,
            "align_content": null,
            "visibility": null,
            "align_self": null,
            "height": null,
            "min_height": null,
            "padding": null,
            "grid_auto_rows": null,
            "grid_gap": null,
            "max_width": null,
            "order": null,
            "_view_module_version": "1.2.0",
            "grid_template_areas": null,
            "object_position": null,
            "object_fit": null,
            "grid_auto_columns": null,
            "margin": null,
            "display": null,
            "left": null
          }
        },
        "0bd3c5a3edef493d99121f56707b32ee": {
          "model_module": "@jupyter-widgets/controls",
          "model_name": "HTMLModel",
          "model_module_version": "1.5.0",
          "state": {
            "_view_name": "HTMLView",
            "style": "IPY_MODEL_db45ee8a22844c11938d7f75d30c40b3",
            "_dom_classes": [],
            "description": "",
            "_model_name": "HTMLModel",
            "placeholder": "​",
            "_view_module": "@jupyter-widgets/controls",
            "_model_module_version": "1.5.0",
            "value": "100%",
            "_view_count": null,
            "_view_module_version": "1.5.0",
            "description_tooltip": null,
            "_model_module": "@jupyter-widgets/controls",
            "layout": "IPY_MODEL_214339fd9ded4e3b9a2468f2ac94f338"
          }
        },
        "c870dea98a1e4866867b258eb33a8bac": {
          "model_module": "@jupyter-widgets/controls",
          "model_name": "FloatProgressModel",
          "model_module_version": "1.5.0",
          "state": {
            "_view_name": "ProgressView",
            "style": "IPY_MODEL_c386b15e6f294cf5974c94dbf8e72c56",
            "_dom_classes": [],
            "description": "",
            "_model_name": "FloatProgressModel",
            "bar_style": "",
            "max": 200,
            "_view_module": "@jupyter-widgets/controls",
            "_model_module_version": "1.5.0",
            "value": 200,
            "_view_count": null,
            "_view_module_version": "1.5.0",
            "orientation": "horizontal",
            "min": 0,
            "description_tooltip": null,
            "_model_module": "@jupyter-widgets/controls",
            "layout": "IPY_MODEL_5c7337eb47a549a386aaca3958aebe20"
          }
        },
        "c0f9a7a346cd4afbb317ff85d809674f": {
          "model_module": "@jupyter-widgets/controls",
          "model_name": "HTMLModel",
          "model_module_version": "1.5.0",
          "state": {
            "_view_name": "HTMLView",
            "style": "IPY_MODEL_e5eef51fdc704a47883c2c0cebb67c18",
            "_dom_classes": [],
            "description": "",
            "_model_name": "HTMLModel",
            "placeholder": "​",
            "_view_module": "@jupyter-widgets/controls",
            "_model_module_version": "1.5.0",
            "value": " 200/200 [05:48&lt;00:00,  1.30s/it]",
            "_view_count": null,
            "_view_module_version": "1.5.0",
            "description_tooltip": null,
            "_model_module": "@jupyter-widgets/controls",
            "layout": "IPY_MODEL_c0b6d49771aa4d5f964ebc1d27bb38f8"
          }
        },
        "db45ee8a22844c11938d7f75d30c40b3": {
          "model_module": "@jupyter-widgets/controls",
          "model_name": "DescriptionStyleModel",
          "model_module_version": "1.5.0",
          "state": {
            "_view_name": "StyleView",
            "_model_name": "DescriptionStyleModel",
            "description_width": "",
            "_view_module": "@jupyter-widgets/base",
            "_model_module_version": "1.5.0",
            "_view_count": null,
            "_view_module_version": "1.2.0",
            "_model_module": "@jupyter-widgets/controls"
          }
        },
        "214339fd9ded4e3b9a2468f2ac94f338": {
          "model_module": "@jupyter-widgets/base",
          "model_name": "LayoutModel",
          "model_module_version": "1.2.0",
          "state": {
            "_view_name": "LayoutView",
            "grid_template_rows": null,
            "right": null,
            "justify_content": null,
            "_view_module": "@jupyter-widgets/base",
            "overflow": null,
            "_model_module_version": "1.2.0",
            "_view_count": null,
            "flex_flow": null,
            "width": null,
            "min_width": null,
            "border": null,
            "align_items": null,
            "bottom": null,
            "_model_module": "@jupyter-widgets/base",
            "top": null,
            "grid_column": null,
            "overflow_y": null,
            "overflow_x": null,
            "grid_auto_flow": null,
            "grid_area": null,
            "grid_template_columns": null,
            "flex": null,
            "_model_name": "LayoutModel",
            "justify_items": null,
            "grid_row": null,
            "max_height": null,
            "align_content": null,
            "visibility": null,
            "align_self": null,
            "height": null,
            "min_height": null,
            "padding": null,
            "grid_auto_rows": null,
            "grid_gap": null,
            "max_width": null,
            "order": null,
            "_view_module_version": "1.2.0",
            "grid_template_areas": null,
            "object_position": null,
            "object_fit": null,
            "grid_auto_columns": null,
            "margin": null,
            "display": null,
            "left": null
          }
        },
        "c386b15e6f294cf5974c94dbf8e72c56": {
          "model_module": "@jupyter-widgets/controls",
          "model_name": "ProgressStyleModel",
          "model_module_version": "1.5.0",
          "state": {
            "_view_name": "StyleView",
            "_model_name": "ProgressStyleModel",
            "description_width": "",
            "_view_module": "@jupyter-widgets/base",
            "_model_module_version": "1.5.0",
            "_view_count": null,
            "_view_module_version": "1.2.0",
            "bar_color": null,
            "_model_module": "@jupyter-widgets/controls"
          }
        },
        "5c7337eb47a549a386aaca3958aebe20": {
          "model_module": "@jupyter-widgets/base",
          "model_name": "LayoutModel",
          "model_module_version": "1.2.0",
          "state": {
            "_view_name": "LayoutView",
            "grid_template_rows": null,
            "right": null,
            "justify_content": null,
            "_view_module": "@jupyter-widgets/base",
            "overflow": null,
            "_model_module_version": "1.2.0",
            "_view_count": null,
            "flex_flow": null,
            "width": null,
            "min_width": null,
            "border": null,
            "align_items": null,
            "bottom": null,
            "_model_module": "@jupyter-widgets/base",
            "top": null,
            "grid_column": null,
            "overflow_y": null,
            "overflow_x": null,
            "grid_auto_flow": null,
            "grid_area": null,
            "grid_template_columns": null,
            "flex": null,
            "_model_name": "LayoutModel",
            "justify_items": null,
            "grid_row": null,
            "max_height": null,
            "align_content": null,
            "visibility": null,
            "align_self": null,
            "height": null,
            "min_height": null,
            "padding": null,
            "grid_auto_rows": null,
            "grid_gap": null,
            "max_width": null,
            "order": null,
            "_view_module_version": "1.2.0",
            "grid_template_areas": null,
            "object_position": null,
            "object_fit": null,
            "grid_auto_columns": null,
            "margin": null,
            "display": null,
            "left": null
          }
        },
        "e5eef51fdc704a47883c2c0cebb67c18": {
          "model_module": "@jupyter-widgets/controls",
          "model_name": "DescriptionStyleModel",
          "model_module_version": "1.5.0",
          "state": {
            "_view_name": "StyleView",
            "_model_name": "DescriptionStyleModel",
            "description_width": "",
            "_view_module": "@jupyter-widgets/base",
            "_model_module_version": "1.5.0",
            "_view_count": null,
            "_view_module_version": "1.2.0",
            "_model_module": "@jupyter-widgets/controls"
          }
        },
        "c0b6d49771aa4d5f964ebc1d27bb38f8": {
          "model_module": "@jupyter-widgets/base",
          "model_name": "LayoutModel",
          "model_module_version": "1.2.0",
          "state": {
            "_view_name": "LayoutView",
            "grid_template_rows": null,
            "right": null,
            "justify_content": null,
            "_view_module": "@jupyter-widgets/base",
            "overflow": null,
            "_model_module_version": "1.2.0",
            "_view_count": null,
            "flex_flow": null,
            "width": null,
            "min_width": null,
            "border": null,
            "align_items": null,
            "bottom": null,
            "_model_module": "@jupyter-widgets/base",
            "top": null,
            "grid_column": null,
            "overflow_y": null,
            "overflow_x": null,
            "grid_auto_flow": null,
            "grid_area": null,
            "grid_template_columns": null,
            "flex": null,
            "_model_name": "LayoutModel",
            "justify_items": null,
            "grid_row": null,
            "max_height": null,
            "align_content": null,
            "visibility": null,
            "align_self": null,
            "height": null,
            "min_height": null,
            "padding": null,
            "grid_auto_rows": null,
            "grid_gap": null,
            "max_width": null,
            "order": null,
            "_view_module_version": "1.2.0",
            "grid_template_areas": null,
            "object_position": null,
            "object_fit": null,
            "grid_auto_columns": null,
            "margin": null,
            "display": null,
            "left": null
          }
        }
      }
    }
  },
  "cells": [
    {
      "cell_type": "markdown",
      "metadata": {
        "id": "view-in-github",
        "colab_type": "text"
      },
      "source": [
        "<a href=\"https://colab.research.google.com/github/manuelP88/text_classification/blob/main/gossip_vs_propaganda_text_classification.ipynb\" target=\"_parent\"><img src=\"https://colab.research.google.com/assets/colab-badge.svg\" alt=\"Open In Colab\"/></a>"
      ]
    },
    {
      "cell_type": "code",
      "metadata": {
        "colab": {
          "base_uri": "https://localhost:8080/"
        },
        "id": "Tya5dmHkxn0c",
        "outputId": "24646c8c-3f29-43aa-c9e7-7eb217a3d658"
      },
      "source": [
        "!pip install datasets\n",
        "!pip install transformers\n",
        "!pip install torch"
      ],
      "execution_count": 88,
      "outputs": [
        {
          "output_type": "stream",
          "name": "stdout",
          "text": [
            "Requirement already satisfied: datasets in /usr/local/lib/python3.7/dist-packages (1.15.1)\n",
            "Requirement already satisfied: huggingface-hub<1.0.0,>=0.1.0 in /usr/local/lib/python3.7/dist-packages (from datasets) (0.1.2)\n",
            "Requirement already satisfied: packaging in /usr/local/lib/python3.7/dist-packages (from datasets) (21.3)\n",
            "Requirement already satisfied: aiohttp in /usr/local/lib/python3.7/dist-packages (from datasets) (3.8.1)\n",
            "Requirement already satisfied: numpy>=1.17 in /usr/local/lib/python3.7/dist-packages (from datasets) (1.19.5)\n",
            "Requirement already satisfied: multiprocess in /usr/local/lib/python3.7/dist-packages (from datasets) (0.70.12.2)\n",
            "Requirement already satisfied: xxhash in /usr/local/lib/python3.7/dist-packages (from datasets) (2.0.2)\n",
            "Requirement already satisfied: requests>=2.19.0 in /usr/local/lib/python3.7/dist-packages (from datasets) (2.23.0)\n",
            "Requirement already satisfied: pyarrow!=4.0.0,>=1.0.0 in /usr/local/lib/python3.7/dist-packages (from datasets) (3.0.0)\n",
            "Requirement already satisfied: pandas in /usr/local/lib/python3.7/dist-packages (from datasets) (1.1.5)\n",
            "Requirement already satisfied: importlib-metadata in /usr/local/lib/python3.7/dist-packages (from datasets) (4.8.2)\n",
            "Requirement already satisfied: fsspec[http]>=2021.05.0 in /usr/local/lib/python3.7/dist-packages (from datasets) (2021.11.0)\n",
            "Requirement already satisfied: tqdm>=4.62.1 in /usr/local/lib/python3.7/dist-packages (from datasets) (4.62.3)\n",
            "Requirement already satisfied: dill in /usr/local/lib/python3.7/dist-packages (from datasets) (0.3.4)\n",
            "Requirement already satisfied: pyyaml in /usr/local/lib/python3.7/dist-packages (from huggingface-hub<1.0.0,>=0.1.0->datasets) (6.0)\n",
            "Requirement already satisfied: filelock in /usr/local/lib/python3.7/dist-packages (from huggingface-hub<1.0.0,>=0.1.0->datasets) (3.4.0)\n",
            "Requirement already satisfied: typing-extensions>=3.7.4.3 in /usr/local/lib/python3.7/dist-packages (from huggingface-hub<1.0.0,>=0.1.0->datasets) (3.10.0.2)\n",
            "Requirement already satisfied: pyparsing!=3.0.5,>=2.0.2 in /usr/local/lib/python3.7/dist-packages (from packaging->datasets) (3.0.6)\n",
            "Requirement already satisfied: urllib3!=1.25.0,!=1.25.1,<1.26,>=1.21.1 in /usr/local/lib/python3.7/dist-packages (from requests>=2.19.0->datasets) (1.24.3)\n",
            "Requirement already satisfied: chardet<4,>=3.0.2 in /usr/local/lib/python3.7/dist-packages (from requests>=2.19.0->datasets) (3.0.4)\n",
            "Requirement already satisfied: idna<3,>=2.5 in /usr/local/lib/python3.7/dist-packages (from requests>=2.19.0->datasets) (2.10)\n",
            "Requirement already satisfied: certifi>=2017.4.17 in /usr/local/lib/python3.7/dist-packages (from requests>=2.19.0->datasets) (2021.10.8)\n",
            "Requirement already satisfied: attrs>=17.3.0 in /usr/local/lib/python3.7/dist-packages (from aiohttp->datasets) (21.2.0)\n",
            "Requirement already satisfied: yarl<2.0,>=1.0 in /usr/local/lib/python3.7/dist-packages (from aiohttp->datasets) (1.7.2)\n",
            "Requirement already satisfied: charset-normalizer<3.0,>=2.0 in /usr/local/lib/python3.7/dist-packages (from aiohttp->datasets) (2.0.7)\n",
            "Requirement already satisfied: asynctest==0.13.0 in /usr/local/lib/python3.7/dist-packages (from aiohttp->datasets) (0.13.0)\n",
            "Requirement already satisfied: multidict<7.0,>=4.5 in /usr/local/lib/python3.7/dist-packages (from aiohttp->datasets) (5.2.0)\n",
            "Requirement already satisfied: async-timeout<5.0,>=4.0.0a3 in /usr/local/lib/python3.7/dist-packages (from aiohttp->datasets) (4.0.1)\n",
            "Requirement already satisfied: frozenlist>=1.1.1 in /usr/local/lib/python3.7/dist-packages (from aiohttp->datasets) (1.2.0)\n",
            "Requirement already satisfied: aiosignal>=1.1.2 in /usr/local/lib/python3.7/dist-packages (from aiohttp->datasets) (1.2.0)\n",
            "Requirement already satisfied: zipp>=0.5 in /usr/local/lib/python3.7/dist-packages (from importlib-metadata->datasets) (3.6.0)\n",
            "Requirement already satisfied: pytz>=2017.2 in /usr/local/lib/python3.7/dist-packages (from pandas->datasets) (2018.9)\n",
            "Requirement already satisfied: python-dateutil>=2.7.3 in /usr/local/lib/python3.7/dist-packages (from pandas->datasets) (2.8.2)\n",
            "Requirement already satisfied: six>=1.5 in /usr/local/lib/python3.7/dist-packages (from python-dateutil>=2.7.3->pandas->datasets) (1.15.0)\n",
            "Requirement already satisfied: transformers in /usr/local/lib/python3.7/dist-packages (4.12.5)\n",
            "Requirement already satisfied: tokenizers<0.11,>=0.10.1 in /usr/local/lib/python3.7/dist-packages (from transformers) (0.10.3)\n",
            "Requirement already satisfied: filelock in /usr/local/lib/python3.7/dist-packages (from transformers) (3.4.0)\n",
            "Requirement already satisfied: sacremoses in /usr/local/lib/python3.7/dist-packages (from transformers) (0.0.46)\n",
            "Requirement already satisfied: requests in /usr/local/lib/python3.7/dist-packages (from transformers) (2.23.0)\n",
            "Requirement already satisfied: pyyaml>=5.1 in /usr/local/lib/python3.7/dist-packages (from transformers) (6.0)\n",
            "Requirement already satisfied: tqdm>=4.27 in /usr/local/lib/python3.7/dist-packages (from transformers) (4.62.3)\n",
            "Requirement already satisfied: importlib-metadata in /usr/local/lib/python3.7/dist-packages (from transformers) (4.8.2)\n",
            "Requirement already satisfied: huggingface-hub<1.0,>=0.1.0 in /usr/local/lib/python3.7/dist-packages (from transformers) (0.1.2)\n",
            "Requirement already satisfied: packaging>=20.0 in /usr/local/lib/python3.7/dist-packages (from transformers) (21.3)\n",
            "Requirement already satisfied: regex!=2019.12.17 in /usr/local/lib/python3.7/dist-packages (from transformers) (2019.12.20)\n",
            "Requirement already satisfied: numpy>=1.17 in /usr/local/lib/python3.7/dist-packages (from transformers) (1.19.5)\n",
            "Requirement already satisfied: typing-extensions>=3.7.4.3 in /usr/local/lib/python3.7/dist-packages (from huggingface-hub<1.0,>=0.1.0->transformers) (3.10.0.2)\n",
            "Requirement already satisfied: pyparsing!=3.0.5,>=2.0.2 in /usr/local/lib/python3.7/dist-packages (from packaging>=20.0->transformers) (3.0.6)\n",
            "Requirement already satisfied: zipp>=0.5 in /usr/local/lib/python3.7/dist-packages (from importlib-metadata->transformers) (3.6.0)\n",
            "Requirement already satisfied: chardet<4,>=3.0.2 in /usr/local/lib/python3.7/dist-packages (from requests->transformers) (3.0.4)\n",
            "Requirement already satisfied: urllib3!=1.25.0,!=1.25.1,<1.26,>=1.21.1 in /usr/local/lib/python3.7/dist-packages (from requests->transformers) (1.24.3)\n",
            "Requirement already satisfied: idna<3,>=2.5 in /usr/local/lib/python3.7/dist-packages (from requests->transformers) (2.10)\n",
            "Requirement already satisfied: certifi>=2017.4.17 in /usr/local/lib/python3.7/dist-packages (from requests->transformers) (2021.10.8)\n",
            "Requirement already satisfied: six in /usr/local/lib/python3.7/dist-packages (from sacremoses->transformers) (1.15.0)\n",
            "Requirement already satisfied: joblib in /usr/local/lib/python3.7/dist-packages (from sacremoses->transformers) (1.1.0)\n",
            "Requirement already satisfied: click in /usr/local/lib/python3.7/dist-packages (from sacremoses->transformers) (7.1.2)\n",
            "Requirement already satisfied: torch in /usr/local/lib/python3.7/dist-packages (1.10.0+cu111)\n",
            "Requirement already satisfied: typing-extensions in /usr/local/lib/python3.7/dist-packages (from torch) (3.10.0.2)\n"
          ]
        }
      ]
    },
    {
      "cell_type": "code",
      "metadata": {
        "id": "ot359abHysPy"
      },
      "source": [
        "import warnings\n",
        "\n",
        "from datasets import load_dataset, DatasetDict\n",
        "import pandas as pd\n",
        "import torch\n",
        "import torch.utils.data as torch_data\n",
        "from transformers import DistilBertModel, DistilBertTokenizer, AdamW, DistilBertForSequenceClassification\n",
        "from datasets import load_metric\n",
        "import transformers.modeling_outputs\n",
        "from transformers import get_scheduler\n",
        "\n",
        "from torch import cuda\n",
        "from tqdm.auto import tqdm\n",
        "import matplotlib.pyplot as plt\n",
        "\n",
        "import types"
      ],
      "execution_count": 89,
      "outputs": []
    },
    {
      "cell_type": "code",
      "metadata": {
        "id": "BGWYW-cj0HGG"
      },
      "source": [
        "def require_not_None(obj, message=\"Require not None\") -> object:\n",
        "    if obj is None:\n",
        "        raise Exception(message)\n",
        "    return obj\n",
        "\n",
        "def load_dataset_from_csv_enc_labels(csv_path=None) -> pd.DataFrame:\n",
        "    require_not_None(csv_path)\n",
        "    # Import the csv into pandas dataframe and add the headers\n",
        "    df = pd.read_csv(\n",
        "        csv_path,\n",
        "        sep='§',\n",
        "        #names=['url', 'domain', 'label', 'title', 'text'],\n",
        "        engine='python'\n",
        "    )\n",
        "    df = df[['domain', 'text', 'label']]\n",
        "\n",
        "    encode_dict = {}\n",
        "\n",
        "    def encode_cat(x):\n",
        "        if x not in encode_dict.keys():\n",
        "            encode_dict[x] = len(encode_dict)\n",
        "        return encode_dict[x]\n",
        "\n",
        "    df['enc_label'] = df['label'].apply(lambda x: encode_cat(x))\n",
        "    if len(encode_dict.keys()) != 2: raise Exception(\"error! More tan 2 categories are detected!\")\n",
        "    return df"
      ],
      "execution_count": 90,
      "outputs": []
    },
    {
      "cell_type": "code",
      "metadata": {
        "id": "CpDE8j_V0UtM"
      },
      "source": [
        "def train_test_split(train:pd.DataFrame, frac: float = 0.8, random_state:int=200):\n",
        "    require_not_None(train)\n",
        "    require_not_None(frac)\n",
        "\n",
        "    train_dataset = train.sample(frac=frac, random_state=random_state)\n",
        "    test_dataset = train.drop(train_dataset.index).reset_index(drop=True)\n",
        "    train_dataset = train_dataset.reset_index(drop=True)\n",
        "\n",
        "\n",
        "    return train_dataset, test_dataset"
      ],
      "execution_count": 91,
      "outputs": []
    },
    {
      "cell_type": "code",
      "metadata": {
        "id": "o6IRHSzF-0Lg"
      },
      "source": [
        "batch_size = 16\n",
        "LEARNING_RATE = 1e-05\n",
        "num_epochs = 20"
      ],
      "execution_count": 92,
      "outputs": []
    },
    {
      "cell_type": "code",
      "metadata": {
        "id": "JbwZ7DXa0ZU6",
        "colab": {
          "base_uri": "https://localhost:8080/"
        },
        "outputId": "8c332aaa-2ee3-444a-86b3-736b657dc8ef"
      },
      "source": [
        "from google.colab import drive\n",
        "drive.mount('/drive')\n",
        "\n",
        "ds2 = '/drive/My Drive/Colab Notebooks/datasets/gossip_vs_propaganda.csv'\n",
        "model_out = '/drive/My Drive/Colab Notebooks/models/gossip_vs_propaganda_model'\n",
        "\n",
        "\n",
        "df = load_dataset_from_csv_enc_labels( ds2 )  "
      ],
      "execution_count": 93,
      "outputs": [
        {
          "output_type": "stream",
          "name": "stdout",
          "text": [
            "Drive already mounted at /drive; to attempt to forcibly remount, call drive.mount(\"/drive\", force_remount=True).\n"
          ]
        }
      ]
    },
    {
      "cell_type": "code",
      "metadata": {
        "colab": {
          "base_uri": "https://localhost:8080/"
        },
        "id": "cCMA8PSspwB3",
        "outputId": "9646dc7e-03d3-4f98-893b-00d81e71ae0c"
      },
      "source": [
        "df.label.value_counts()"
      ],
      "execution_count": 94,
      "outputs": [
        {
          "output_type": "execute_result",
          "data": {
            "text/plain": [
              "gossip        13555\n",
              "propaganda      459\n",
              "Name: label, dtype: int64"
            ]
          },
          "metadata": {},
          "execution_count": 94
        }
      ]
    },
    {
      "cell_type": "code",
      "metadata": {
        "id": "XVvsWG4_rLXv"
      },
      "source": [
        "def downsample(df:pd.DataFrame, label_col_name:str, random_state:int=200) -> pd.DataFrame:\n",
        "    # find the number of observations in the smallest group\n",
        "    nmin = df[label_col_name].value_counts().min()\n",
        "    return (df\n",
        "            # split the dataframe per group\n",
        "            .groupby(label_col_name)\n",
        "            # sample nmin observations from each group\n",
        "            .apply(lambda x: x.sample(nmin, random_state=random_state))\n",
        "            # recombine the dataframes\n",
        "            .reset_index(drop=True)\n",
        "            )"
      ],
      "execution_count": 95,
      "outputs": []
    },
    {
      "cell_type": "code",
      "metadata": {
        "colab": {
          "base_uri": "https://localhost:8080/"
        },
        "id": "sIYxPWxarOwo",
        "outputId": "f831f9a9-6f88-4994-be2e-847c8629f3f9"
      },
      "source": [
        "df = downsample(df, \"label\")\n",
        "df.label.value_counts()"
      ],
      "execution_count": 96,
      "outputs": [
        {
          "output_type": "execute_result",
          "data": {
            "text/plain": [
              "gossip        459\n",
              "propaganda    459\n",
              "Name: label, dtype: int64"
            ]
          },
          "metadata": {},
          "execution_count": 96
        }
      ]
    },
    {
      "cell_type": "code",
      "metadata": {
        "colab": {
          "base_uri": "https://localhost:8080/"
        },
        "id": "ukt7sIgarpo0",
        "outputId": "db69ea65-11c2-4cf6-d49f-40f5397f696b"
      },
      "source": [
        "train_dataset, test_dataset = train_test_split(df, frac=0.2)#0,8\n",
        "train_dataset, val_dataset = train_test_split(train_dataset, frac=0.8)\n",
        "warnings.warn(\"What are the right dimensions of train-validation-test sets?\")\n",
        "\n",
        "print(\"FULL Dataset: {}\".format(df.shape))\n",
        "print(\"TRAIN Dataset: {}\".format(train_dataset.shape))\n",
        "print(\"TEST Dataset: {}\".format(test_dataset.shape))\n",
        "print(\"VALID Dataset: {}\".format(val_dataset.shape)) "
      ],
      "execution_count": 97,
      "outputs": [
        {
          "output_type": "stream",
          "name": "stdout",
          "text": [
            "FULL Dataset: (918, 4)\n",
            "TRAIN Dataset: (147, 4)\n",
            "TEST Dataset: (734, 4)\n",
            "VALID Dataset: (37, 4)\n"
          ]
        },
        {
          "output_type": "stream",
          "name": "stderr",
          "text": [
            "/usr/local/lib/python3.7/dist-packages/ipykernel_launcher.py:3: UserWarning: What are the right dimensions of train-validation-test sets?\n",
            "  This is separate from the ipykernel package so we can avoid doing imports until\n"
          ]
        }
      ]
    },
    {
      "cell_type": "code",
      "metadata": {
        "colab": {
          "base_uri": "https://localhost:8080/",
          "height": 346
        },
        "id": "epdPSEdIlD2M",
        "outputId": "a7c26c42-2de7-4c85-f441-2a3e780e407f"
      },
      "source": [
        "df.groupby(\"label\")[\"label\"].count().plot(kind='bar')"
      ],
      "execution_count": 98,
      "outputs": [
        {
          "output_type": "execute_result",
          "data": {
            "text/plain": [
              "<matplotlib.axes._subplots.AxesSubplot at 0x7f712e22d090>"
            ]
          },
          "metadata": {},
          "execution_count": 98
        },
        {
          "output_type": "display_data",
          "data": {
            "image/png": "[encoded data removed]",
            "text/plain": [
              "<Figure size 432x288 with 1 Axes>"
            ]
          },
          "metadata": {
            "needs_background": "light"
          }
        }
      ]
    },
    {
      "cell_type": "code",
      "metadata": {
        "id": "S2rXrQUeqK0c",
        "colab": {
          "base_uri": "https://localhost:8080/",
          "height": 346
        },
        "outputId": "37431576-c29f-4bf2-a1f8-4e851f304633"
      },
      "source": [
        "train_dataset.groupby(\"label\")[\"label\"].count().plot(kind='bar')"
      ],
      "execution_count": 99,
      "outputs": [
        {
          "output_type": "execute_result",
          "data": {
            "text/plain": [
              "<matplotlib.axes._subplots.AxesSubplot at 0x7f712da0f810>"
            ]
          },
          "metadata": {},
          "execution_count": 99
        },
        {
          "output_type": "display_data",
          "data": {
            "image/png": "[encoded data removed]",
            "text/plain": [
              "<Figure size 432x288 with 1 Axes>"
            ]
          },
          "metadata": {
            "needs_background": "light"
          }
        }
      ]
    },
    {
      "cell_type": "code",
      "metadata": {
        "colab": {
          "base_uri": "https://localhost:8080/",
          "height": 346
        },
        "id": "R8eUfLKmqC6b",
        "outputId": "3128f11e-b360-4731-eb57-bdab28117b63"
      },
      "source": [
        "test_dataset.groupby(\"label\")[\"label\"].count().plot(kind='bar')"
      ],
      "execution_count": 100,
      "outputs": [
        {
          "output_type": "execute_result",
          "data": {
            "text/plain": [
              "<matplotlib.axes._subplots.AxesSubplot at 0x7f712d214dd0>"
            ]
          },
          "metadata": {},
          "execution_count": 100
        },
        {
          "output_type": "display_data",
          "data": {
            "image/png": "[encoded data removed]",
            "text/plain": [
              "<Figure size 432x288 with 1 Axes>"
            ]
          },
          "metadata": {
            "needs_background": "light"
          }
        }
      ]
    },
    {
      "cell_type": "code",
      "metadata": {
        "colab": {
          "base_uri": "https://localhost:8080/",
          "height": 346
        },
        "id": "NyXzdCNHqF_b",
        "outputId": "5971a9a1-ba53-486b-e292-ecc225de39f5"
      },
      "source": [
        "val_dataset.groupby(\"label\")[\"label\"].count().plot(kind='bar')"
      ],
      "execution_count": 101,
      "outputs": [
        {
          "output_type": "execute_result",
          "data": {
            "text/plain": [
              "<matplotlib.axes._subplots.AxesSubplot at 0x7f712d241290>"
            ]
          },
          "metadata": {},
          "execution_count": 101
        },
        {
          "output_type": "display_data",
          "data": {
            "image/png": "[encoded data removed]",
            "text/plain": [
              "<Figure size 432x288 with 1 Axes>"
            ]
          },
          "metadata": {
            "needs_background": "light"
          }
        }
      ]
    },
    {
      "cell_type": "code",
      "metadata": {
        "id": "HSR_hPIj11G2"
      },
      "source": [
        "class GossipScience(torch_data.Dataset):\n",
        "\n",
        "    def __init__(self, dataframe, tokenizer, max_len=512):\n",
        "        self.len = len(dataframe)\n",
        "        self.data = dataframe\n",
        "        self.tokenizer = tokenizer\n",
        "        self.max_len = max_len\n",
        "\n",
        "    def _get_value(self, index):\n",
        "        text = str(self.data.text[index])\n",
        "        text = \" \".join(text.split())\n",
        "        return text\n",
        "\n",
        "    def __getitem__(self, index):\n",
        "        value = self._get_value(index)\n",
        "\n",
        "        inputs = self.tokenizer.encode_plus(\n",
        "            value, add_special_tokens=True,\n",
        "            max_length=self.max_len, truncation=True,\n",
        "            padding=\"max_length\"\n",
        "        )\n",
        "        return {\n",
        "            'input_ids': torch.tensor(inputs['input_ids'], dtype=torch.long),\n",
        "            'attention_mask': torch.tensor(inputs['attention_mask'], dtype=torch.long),\n",
        "            'labels': torch.tensor(self.data.enc_label[index], dtype=torch.long)\n",
        "        }\n",
        "\n",
        "    def get_my_item(self, index):\n",
        "      return self.__getitem__(index)\n",
        "\n",
        "    def __len__(self):\n",
        "        return self.len\n"
      ],
      "execution_count": 102,
      "outputs": []
    },
    {
      "cell_type": "code",
      "metadata": {
        "id": "HLODtXtA3TJp"
      },
      "source": [
        ""
      ],
      "execution_count": 102,
      "outputs": []
    },
    {
      "cell_type": "code",
      "metadata": {
        "id": "Jal5sPrE2AB3",
        "colab": {
          "base_uri": "https://localhost:8080/"
        },
        "outputId": "9d0bbdb3-e3bb-4913-c496-9dc9da23b015"
      },
      "source": [
        "checkpoint = 'distilbert-base-cased'\n",
        "tokenizer = DistilBertTokenizer.from_pretrained( checkpoint )\n",
        "training_set = GossipScience(train_dataset, tokenizer)\n",
        "testing_set = GossipScience(test_dataset, tokenizer)\n",
        "validation_set = GossipScience(val_dataset, tokenizer)\n",
        "\n",
        "train_params = {'batch_size': batch_size, 'shuffle': True}\n",
        "test_params = {'batch_size': batch_size, 'shuffle': True}\n",
        "validation_params = {'batch_size': batch_size, 'shuffle': True}\n",
        "\n",
        "device = torch.device('cuda') if torch.cuda.is_available() else torch.device('cpu')\n",
        "training_loader:torch_data.DataLoader = torch_data.DataLoader(training_set, **train_params)\n",
        "test_loader:torch_data.DataLoader = torch_data.DataLoader(testing_set, **test_params)\n",
        "validation_loader:torch_data.DataLoader = torch_data.DataLoader(validation_set, **validation_params)\n",
        "\n",
        "model = DistilBertForSequenceClassification.from_pretrained( checkpoint )\n",
        "\n",
        "warnings.warn(\"You have to train a more complex model!\")\n"
      ],
      "execution_count": 103,
      "outputs": [
        {
          "output_type": "stream",
          "name": "stderr",
          "text": [
            "Some weights of the model checkpoint at distilbert-base-cased were not used when initializing DistilBertForSequenceClassification: ['vocab_transform.bias', 'vocab_layer_norm.bias', 'vocab_layer_norm.weight', 'vocab_projector.bias', 'vocab_projector.weight', 'vocab_transform.weight']\n",
            "- This IS expected if you are initializing DistilBertForSequenceClassification from the checkpoint of a model trained on another task or with another architecture (e.g. initializing a BertForSequenceClassification model from a BertForPreTraining model).\n",
            "- This IS NOT expected if you are initializing DistilBertForSequenceClassification from the checkpoint of a model that you expect to be exactly identical (initializing a BertForSequenceClassification model from a BertForSequenceClassification model).\n",
            "Some weights of DistilBertForSequenceClassification were not initialized from the model checkpoint at distilbert-base-cased and are newly initialized: ['classifier.weight', 'pre_classifier.weight', 'classifier.bias', 'pre_classifier.bias']\n",
            "You should probably TRAIN this model on a down-stream task to be able to use it for predictions and inference.\n",
            "/usr/local/lib/python3.7/dist-packages/ipykernel_launcher.py:18: UserWarning: You have to train a more complex model!\n"
          ]
        }
      ]
    },
    {
      "cell_type": "code",
      "metadata": {
        "id": "zs_LTmxiBQMe",
        "colab": {
          "base_uri": "https://localhost:8080/"
        },
        "outputId": "df566d5e-b74e-4e9b-9750-5c3633178372"
      },
      "source": [
        "import torch\n",
        "torch.cuda.is_available()"
      ],
      "execution_count": 104,
      "outputs": [
        {
          "output_type": "execute_result",
          "data": {
            "text/plain": [
              "True"
            ]
          },
          "metadata": {},
          "execution_count": 104
        }
      ]
    },
    {
      "cell_type": "code",
      "metadata": {
        "colab": {
          "base_uri": "https://localhost:8080/"
        },
        "id": "8lJkKDDZ7HMS",
        "outputId": "7f31432c-a394-4865-c9e0-3627dfe856e2"
      },
      "source": [
        "training_loader"
      ],
      "execution_count": 105,
      "outputs": [
        {
          "output_type": "execute_result",
          "data": {
            "text/plain": [
              "<torch.utils.data.dataloader.DataLoader at 0x7f712d16a1d0>"
            ]
          },
          "metadata": {},
          "execution_count": 105
        }
      ]
    },
    {
      "cell_type": "code",
      "metadata": {
        "id": "VNJS9ax5e1AH",
        "colab": {
          "base_uri": "https://localhost:8080/",
          "height": 404,
          "referenced_widgets": [
            "d332742e78e0458d9285374e91a08d13",
            "19b6996719a746fd98ab07dea8d57d78",
            "0bd3c5a3edef493d99121f56707b32ee",
            "c870dea98a1e4866867b258eb33a8bac",
            "c0f9a7a346cd4afbb317ff85d809674f",
            "db45ee8a22844c11938d7f75d30c40b3",
            "214339fd9ded4e3b9a2468f2ac94f338",
            "c386b15e6f294cf5974c94dbf8e72c56",
            "5c7337eb47a549a386aaca3958aebe20",
            "e5eef51fdc704a47883c2c0cebb67c18",
            "c0b6d49771aa4d5f964ebc1d27bb38f8"
          ]
        },
        "outputId": "9b9b7eef-ec7a-450a-e86b-cc2a680cd3eb"
      },
      "source": [
        "optimizer = AdamW(model.parameters(), lr=LEARNING_RATE)\n",
        "\n",
        "num_training_steps = num_epochs * len(training_loader)\n",
        "progress_bar = tqdm(range(num_training_steps))\n",
        "lr_scheduler = get_scheduler(\n",
        "        \"linear\",\n",
        "        optimizer=optimizer,\n",
        "        num_warmup_steps=0,\n",
        "        num_training_steps=num_training_steps\n",
        "    )\n",
        "\n",
        "loss_fct = torch.nn.CrossEntropyLoss()\n",
        "\n",
        "model.to(device)\n",
        " \n",
        "accuracies:dict = {}\n",
        "avg_training_loss: dict = {}\n",
        "avg_validation_loss: dict = {}\n",
        "validation_accuracy: dict = {}\n",
        "\n",
        "for epoch in range(num_epochs):\n",
        "  accuracies[epoch] = []\n",
        "  training_loss = 0.0\n",
        "  valid_loss = 0.0\n",
        "\n",
        "  tr_accuracy = load_metric(\"accuracy\")\n",
        "\n",
        "  model.train()\n",
        "  count=0\n",
        "  for batch in training_loader:\n",
        "    optimizer.zero_grad()\n",
        "    batch = {k: v.to(device) for k, v in batch.items()}\n",
        "    outputs = model(**batch)\n",
        "    loss = loss_fct(outputs.get('logits'), batch.get(\"labels\"))\n",
        "\n",
        "    predictions = torch.argmax(outputs.get('logits'), dim=-1)\n",
        "    tr_accuracy.add_batch(predictions=predictions, references=batch[\"labels\"])\n",
        "    accuracies[epoch].append( tr_accuracy.compute()['accuracy'] )\n",
        "    \n",
        "    loss.backward()\n",
        "    optimizer.step()\n",
        "    training_loss+=loss.data.item()\n",
        "    lr_scheduler.step()\n",
        "    progress_bar.update(1)\n",
        "\n",
        "    count=count+1\n",
        "  \n",
        "  training_loss/=len(training_loader)\n",
        "  avg_training_loss[epoch] = training_loss\n",
        "    \n",
        "  accuracy = load_metric(\"accuracy\")\n",
        "    \n",
        "  model.eval()\n",
        "  for batch in validation_loader:\n",
        "    batch = {k: v.to(device) for k, v in batch.items()}\n",
        "    with torch.no_grad():\n",
        "      outputs = model(**batch)\n",
        "        \n",
        "    loss = loss_fct(outputs.get('logits'), batch.get(\"labels\"))\n",
        "    valid_loss+=loss.data.item()\n",
        "    predictions = torch.argmax(outputs.get('logits'), dim=-1)\n",
        "    accuracy.add_batch(predictions=predictions, references=batch[\"labels\"])\n",
        "  \n",
        "  valid_loss/=len(validation_loader)\n",
        "  avg_validation_loss[epoch] = valid_loss\n",
        "  validation_accuracy[epoch] = accuracy.compute()['accuracy']\n",
        "\n",
        "  print(\"Epoch: \"+str(epoch)+\", Training Loss: \"+str(avg_training_loss[epoch])+\", Validation Loss: \"+str(avg_validation_loss[epoch])+\", accuracy = \"+str(validation_accuracy[epoch]))"
      ],
      "execution_count": 106,
      "outputs": [
        {
          "output_type": "display_data",
          "data": {
            "application/vnd.jupyter.widget-view+json": {
              "model_id": "d332742e78e0458d9285374e91a08d13",
              "version_minor": 0,
              "version_major": 2
            },
            "text/plain": [
              "  0%|          | 0/200 [00:00<?, ?it/s]"
            ]
          },
          "metadata": {}
        },
        {
          "output_type": "stream",
          "name": "stdout",
          "text": [
            "Epoch: 0, Training Loss: 0.6886602878570557, Validation Loss: 0.6610844333966573, accuracy = 0.5675675675675675\n",
            "Epoch: 1, Training Loss: 0.6447739005088806, Validation Loss: 0.6018305023511251, accuracy = 0.9459459459459459\n",
            "Epoch: 2, Training Loss: 0.5673242568969726, Validation Loss: 0.49904364347457886, accuracy = 0.918918918918919\n",
            "Epoch: 3, Training Loss: 0.4318690836429596, Validation Loss: 0.37446992595990497, accuracy = 0.9459459459459459\n",
            "Epoch: 4, Training Loss: 0.300082366168499, Validation Loss: 0.2635531524817149, accuracy = 0.9459459459459459\n",
            "Epoch: 5, Training Loss: 0.2141194984316826, Validation Loss: 0.30166369179884595, accuracy = 0.918918918918919\n",
            "Epoch: 6, Training Loss: 0.1648637391626835, Validation Loss: 0.20213726659615835, accuracy = 0.9459459459459459\n",
            "Epoch: 7, Training Loss: 0.10975041277706624, Validation Loss: 0.1535554677248001, accuracy = 0.918918918918919\n",
            "Epoch: 8, Training Loss: 0.07854352369904519, Validation Loss: 0.16847331573565802, accuracy = 0.918918918918919\n",
            "Epoch: 9, Training Loss: 0.06397266499698162, Validation Loss: 0.20235730335116386, accuracy = 0.918918918918919\n",
            "Epoch: 10, Training Loss: 0.04221402816474438, Validation Loss: 0.1439043047527472, accuracy = 0.918918918918919\n",
            "Epoch: 11, Training Loss: 0.03202669657766819, Validation Loss: 0.24344343692064285, accuracy = 0.918918918918919\n",
            "Epoch: 12, Training Loss: 0.02967864293605089, Validation Loss: 0.2394339640935262, accuracy = 0.918918918918919\n",
            "Epoch: 13, Training Loss: 0.02561306580901146, Validation Loss: 0.26107320686181384, accuracy = 0.918918918918919\n",
            "Epoch: 14, Training Loss: 0.023138757236301898, Validation Loss: 0.26639360065261525, accuracy = 0.918918918918919\n",
            "Epoch: 15, Training Loss: 0.0213884549215436, Validation Loss: 0.2659472916275263, accuracy = 0.918918918918919\n",
            "Epoch: 16, Training Loss: 0.02005608845502138, Validation Loss: 0.1343294276545445, accuracy = 0.918918918918919\n",
            "Epoch: 17, Training Loss: 0.020918041467666626, Validation Loss: 0.1363383469482263, accuracy = 0.918918918918919\n",
            "Epoch: 18, Training Loss: 0.019008207507431506, Validation Loss: 0.13661201360325018, accuracy = 0.918918918918919\n",
            "Epoch: 19, Training Loss: 0.019021997414529323, Validation Loss: 0.13563647959381342, accuracy = 0.918918918918919\n"
          ]
        }
      ]
    },
    {
      "cell_type": "code",
      "metadata": {
        "id": "5H65DtkXEB83"
      },
      "source": [
        "\n",
        "def plot_multiple_line(points:list=None, xlabel:str=None, ylabel:str=None, title:str=None):\n",
        "  plt.figure()\n",
        "  x_axis:int = range(0, max( [len(i) for i in points] ))\n",
        "  for i in range(len(points)):\n",
        "    plt.plot(x_axis, [x for x in points[i]])\n",
        "  plt.xlabel(xlabel)\n",
        "  plt.ylabel(ylabel)\n",
        "  plt.title(title) "
      ],
      "execution_count": 107,
      "outputs": []
    },
    {
      "cell_type": "code",
      "metadata": {
        "id": "9-PPZsQEHbzG"
      },
      "source": [
        "def plot_dict(d:dict=None, xlabel:str=None, ylabel:str=None, title:str=None):\n",
        "  lists = sorted(d.items()) # sorted by key, return a list of tuples\n",
        "  x, y = zip(*lists) # unpack a list of pairs into two tuples\n",
        "  plt.plot(x, y)\n",
        "  plt.xlabel(xlabel)\n",
        "  plt.ylabel(ylabel)\n",
        "  plt.title(title)"
      ],
      "execution_count": 108,
      "outputs": []
    },
    {
      "cell_type": "code",
      "metadata": {
        "id": "YKqm7R-J5BHt",
        "colab": {
          "base_uri": "https://localhost:8080/",
          "height": 294
        },
        "outputId": "337b1c7a-dd61-4256-8555-941ae4303490"
      },
      "source": [
        "plot_multiple_line(list(accuracies.values()), 'batch', 'accuracy', 'Training Accuracy vs. Batches in same epoch')"
      ],
      "execution_count": 109,
      "outputs": [
        {
          "output_type": "display_data",
          "data": {
            "image/png": "[encoded data removed]",
            "text/plain": [
              "<Figure size 432x288 with 1 Axes>"
            ]
          },
          "metadata": {
            "needs_background": "light"
          }
        }
      ]
    },
    {
      "cell_type": "code",
      "metadata": {
        "id": "aGZMi8v59ymm",
        "colab": {
          "base_uri": "https://localhost:8080/",
          "height": 294
        },
        "outputId": "b738b840-3206-405f-8b2c-2982e8218d83"
      },
      "source": [
        "plot_dict(avg_training_loss, 'epoch', 'loss', 'Training Loss vs. No. of epochs')"
      ],
      "execution_count": 110,
      "outputs": [
        {
          "output_type": "display_data",
          "data": {
            "image/png": "[encoded data removed]",
            "text/plain": [
              "<Figure size 432x288 with 1 Axes>"
            ]
          },
          "metadata": {
            "needs_background": "light"
          }
        }
      ]
    },
    {
      "cell_type": "code",
      "metadata": {
        "id": "_2hATy45JcA5",
        "colab": {
          "base_uri": "https://localhost:8080/",
          "height": 294
        },
        "outputId": "4ea66ab0-f6b6-4074-852d-abc97a148f8b"
      },
      "source": [
        "plot_dict(avg_validation_loss, 'epoch', 'loss', 'Validation Loss vs. No. of epochs')"
      ],
      "execution_count": 111,
      "outputs": [
        {
          "output_type": "display_data",
          "data": {
            "image/png": "[encoded data removed]",
            "text/plain": [
              "<Figure size 432x288 with 1 Axes>"
            ]
          },
          "metadata": {
            "needs_background": "light"
          }
        }
      ]
    },
    {
      "cell_type": "code",
      "metadata": {
        "id": "g67OosbdJuYj",
        "colab": {
          "base_uri": "https://localhost:8080/",
          "height": 294
        },
        "outputId": "4a127539-4e6c-42b0-dc87-5a11ade58d27"
      },
      "source": [
        "plot_dict(validation_accuracy, 'epoch', 'accuracy', 'Validation Accuracy vs. No. of epochs')"
      ],
      "execution_count": 112,
      "outputs": [
        {
          "output_type": "display_data",
          "data": {
            "image/png": "[encoded data removed]",
            "text/plain": [
              "<Figure size 432x288 with 1 Axes>"
            ]
          },
          "metadata": {
            "needs_background": "light"
          }
        }
      ]
    },
    {
      "cell_type": "code",
      "metadata": {
        "colab": {
          "base_uri": "https://localhost:8080/"
        },
        "id": "kL-h0c7HSr9_",
        "outputId": "63e1296a-7034-4e5a-f934-b104e212f136"
      },
      "source": [
        "test_accuracy = load_metric(\"accuracy\")\n",
        "avg_test_loss = 0\n",
        "\n",
        "model.eval()\n",
        "for batch in test_loader:\n",
        "  batch = {k: v.to(device) for k, v in batch.items()}\n",
        "  with torch.no_grad():\n",
        "    outputs = model(**batch)\n",
        "        \n",
        "  loss = loss_fct(outputs.get('logits'), batch.get(\"labels\"))\n",
        "  avg_test_loss+=loss.data.item()\n",
        "  predictions = torch.argmax(outputs.get('logits'), dim=-1)\n",
        "  test_accuracy.add_batch(predictions=predictions, references=batch[\"labels\"])\n",
        "  \n",
        "avg_test_loss/=len(test_loader)\n",
        "\n",
        "print(\"Test Loss: \"+str(avg_test_loss)+\", accuracy = \"+str(test_accuracy.compute()['accuracy']))"
      ],
      "execution_count": 113,
      "outputs": [
        {
          "output_type": "stream",
          "name": "stdout",
          "text": [
            "Test Loss: 0.14395668385955301, accuracy = 0.9509536784741145\n"
          ]
        }
      ]
    },
    {
      "cell_type": "code",
      "metadata": {
        "id": "9IKDvSW43Yjn"
      },
      "source": [
        "torch.save(model, model_out)"
      ],
      "execution_count": 114,
      "outputs": []
    }
  ]
}