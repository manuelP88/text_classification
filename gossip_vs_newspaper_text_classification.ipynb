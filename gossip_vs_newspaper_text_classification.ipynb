{
  "nbformat": 4,
  "nbformat_minor": 0,
  "metadata": {
    "accelerator": "GPU",
    "colab": {
      "name": "gossip_vs_newspaper_text_classification.ipynb",
      "provenance": [],
      "collapsed_sections": [],
      "toc_visible": true,
      "authorship_tag": "ABX9TyNrg7QiQQjClAkUCb0YG9Km",
      "include_colab_link": true
    },
    "kernelspec": {
      "display_name": "Python 3",
      "name": "python3"
    },
    "language_info": {
      "name": "python"
    },
    "widgets": {
      "application/vnd.jupyter.widget-state+json": {
        "47cea05002604e43a380b96eae50a70d": {
          "model_module": "@jupyter-widgets/controls",
          "model_name": "HBoxModel",
          "model_module_version": "1.5.0",
          "state": {
            "_view_name": "HBoxView",
            "_dom_classes": [],
            "_model_name": "HBoxModel",
            "_view_module": "@jupyter-widgets/controls",
            "_model_module_version": "1.5.0",
            "_view_count": null,
            "_view_module_version": "1.5.0",
            "box_style": "",
            "layout": "IPY_MODEL_cfe570b5abf04c08922a53529d806bfa",
            "_model_module": "@jupyter-widgets/controls",
            "children": [
              "IPY_MODEL_86d68c4ae19543e583a3f894d543f38e",
              "IPY_MODEL_df2215b143af4f1680bcb5d1f78c9818",
              "IPY_MODEL_a21305adbabb40848e08ab62bdcea4c1"
            ]
          }
        },
        "cfe570b5abf04c08922a53529d806bfa": {
          "model_module": "@jupyter-widgets/base",
          "model_name": "LayoutModel",
          "model_module_version": "1.2.0",
          "state": {
            "_view_name": "LayoutView",
            "grid_template_rows": null,
            "right": null,
            "justify_content": null,
            "_view_module": "@jupyter-widgets/base",
            "overflow": null,
            "_model_module_version": "1.2.0",
            "_view_count": null,
            "flex_flow": null,
            "width": null,
            "min_width": null,
            "border": null,
            "align_items": null,
            "bottom": null,
            "_model_module": "@jupyter-widgets/base",
            "top": null,
            "grid_column": null,
            "overflow_y": null,
            "overflow_x": null,
            "grid_auto_flow": null,
            "grid_area": null,
            "grid_template_columns": null,
            "flex": null,
            "_model_name": "LayoutModel",
            "justify_items": null,
            "grid_row": null,
            "max_height": null,
            "align_content": null,
            "visibility": null,
            "align_self": null,
            "height": null,
            "min_height": null,
            "padding": null,
            "grid_auto_rows": null,
            "grid_gap": null,
            "max_width": null,
            "order": null,
            "_view_module_version": "1.2.0",
            "grid_template_areas": null,
            "object_position": null,
            "object_fit": null,
            "grid_auto_columns": null,
            "margin": null,
            "display": null,
            "left": null
          }
        },
        "86d68c4ae19543e583a3f894d543f38e": {
          "model_module": "@jupyter-widgets/controls",
          "model_name": "HTMLModel",
          "model_module_version": "1.5.0",
          "state": {
            "_view_name": "HTMLView",
            "style": "IPY_MODEL_19efcfeef848482f8567c37d5db977ac",
            "_dom_classes": [],
            "description": "",
            "_model_name": "HTMLModel",
            "placeholder": "​",
            "_view_module": "@jupyter-widgets/controls",
            "_model_module_version": "1.5.0",
            "value": "100%",
            "_view_count": null,
            "_view_module_version": "1.5.0",
            "description_tooltip": null,
            "_model_module": "@jupyter-widgets/controls",
            "layout": "IPY_MODEL_bb0835fdd66e41ce90e2852465ece039"
          }
        },
        "df2215b143af4f1680bcb5d1f78c9818": {
          "model_module": "@jupyter-widgets/controls",
          "model_name": "FloatProgressModel",
          "model_module_version": "1.5.0",
          "state": {
            "_view_name": "ProgressView",
            "style": "IPY_MODEL_37805b81d532459a9b76c56c70c09fc8",
            "_dom_classes": [],
            "description": "",
            "_model_name": "FloatProgressModel",
            "bar_style": "",
            "max": 3200,
            "_view_module": "@jupyter-widgets/controls",
            "_model_module_version": "1.5.0",
            "value": 3200,
            "_view_count": null,
            "_view_module_version": "1.5.0",
            "orientation": "horizontal",
            "min": 0,
            "description_tooltip": null,
            "_model_module": "@jupyter-widgets/controls",
            "layout": "IPY_MODEL_eacb218388c944bd84cdbeaf2cd70795"
          }
        },
        "a21305adbabb40848e08ab62bdcea4c1": {
          "model_module": "@jupyter-widgets/controls",
          "model_name": "HTMLModel",
          "model_module_version": "1.5.0",
          "state": {
            "_view_name": "HTMLView",
            "style": "IPY_MODEL_64c90772b6c44b30a75cffa53f361756",
            "_dom_classes": [],
            "description": "",
            "_model_name": "HTMLModel",
            "placeholder": "​",
            "_view_module": "@jupyter-widgets/controls",
            "_model_module_version": "1.5.0",
            "value": " 3200/3200 [1:35:26&lt;00:00,  1.49s/it]",
            "_view_count": null,
            "_view_module_version": "1.5.0",
            "description_tooltip": null,
            "_model_module": "@jupyter-widgets/controls",
            "layout": "IPY_MODEL_61938c1cd94f4915abc2e42080e413c6"
          }
        },
        "19efcfeef848482f8567c37d5db977ac": {
          "model_module": "@jupyter-widgets/controls",
          "model_name": "DescriptionStyleModel",
          "model_module_version": "1.5.0",
          "state": {
            "_view_name": "StyleView",
            "_model_name": "DescriptionStyleModel",
            "description_width": "",
            "_view_module": "@jupyter-widgets/base",
            "_model_module_version": "1.5.0",
            "_view_count": null,
            "_view_module_version": "1.2.0",
            "_model_module": "@jupyter-widgets/controls"
          }
        },
        "bb0835fdd66e41ce90e2852465ece039": {
          "model_module": "@jupyter-widgets/base",
          "model_name": "LayoutModel",
          "model_module_version": "1.2.0",
          "state": {
            "_view_name": "LayoutView",
            "grid_template_rows": null,
            "right": null,
            "justify_content": null,
            "_view_module": "@jupyter-widgets/base",
            "overflow": null,
            "_model_module_version": "1.2.0",
            "_view_count": null,
            "flex_flow": null,
            "width": null,
            "min_width": null,
            "border": null,
            "align_items": null,
            "bottom": null,
            "_model_module": "@jupyter-widgets/base",
            "top": null,
            "grid_column": null,
            "overflow_y": null,
            "overflow_x": null,
            "grid_auto_flow": null,
            "grid_area": null,
            "grid_template_columns": null,
            "flex": null,
            "_model_name": "LayoutModel",
            "justify_items": null,
            "grid_row": null,
            "max_height": null,
            "align_content": null,
            "visibility": null,
            "align_self": null,
            "height": null,
            "min_height": null,
            "padding": null,
            "grid_auto_rows": null,
            "grid_gap": null,
            "max_width": null,
            "order": null,
            "_view_module_version": "1.2.0",
            "grid_template_areas": null,
            "object_position": null,
            "object_fit": null,
            "grid_auto_columns": null,
            "margin": null,
            "display": null,
            "left": null
          }
        },
        "37805b81d532459a9b76c56c70c09fc8": {
          "model_module": "@jupyter-widgets/controls",
          "model_name": "ProgressStyleModel",
          "model_module_version": "1.5.0",
          "state": {
            "_view_name": "StyleView",
            "_model_name": "ProgressStyleModel",
            "description_width": "",
            "_view_module": "@jupyter-widgets/base",
            "_model_module_version": "1.5.0",
            "_view_count": null,
            "_view_module_version": "1.2.0",
            "bar_color": null,
            "_model_module": "@jupyter-widgets/controls"
          }
        },
        "eacb218388c944bd84cdbeaf2cd70795": {
          "model_module": "@jupyter-widgets/base",
          "model_name": "LayoutModel",
          "model_module_version": "1.2.0",
          "state": {
            "_view_name": "LayoutView",
            "grid_template_rows": null,
            "right": null,
            "justify_content": null,
            "_view_module": "@jupyter-widgets/base",
            "overflow": null,
            "_model_module_version": "1.2.0",
            "_view_count": null,
            "flex_flow": null,
            "width": null,
            "min_width": null,
            "border": null,
            "align_items": null,
            "bottom": null,
            "_model_module": "@jupyter-widgets/base",
            "top": null,
            "grid_column": null,
            "overflow_y": null,
            "overflow_x": null,
            "grid_auto_flow": null,
            "grid_area": null,
            "grid_template_columns": null,
            "flex": null,
            "_model_name": "LayoutModel",
            "justify_items": null,
            "grid_row": null,
            "max_height": null,
            "align_content": null,
            "visibility": null,
            "align_self": null,
            "height": null,
            "min_height": null,
            "padding": null,
            "grid_auto_rows": null,
            "grid_gap": null,
            "max_width": null,
            "order": null,
            "_view_module_version": "1.2.0",
            "grid_template_areas": null,
            "object_position": null,
            "object_fit": null,
            "grid_auto_columns": null,
            "margin": null,
            "display": null,
            "left": null
          }
        },
        "64c90772b6c44b30a75cffa53f361756": {
          "model_module": "@jupyter-widgets/controls",
          "model_name": "DescriptionStyleModel",
          "model_module_version": "1.5.0",
          "state": {
            "_view_name": "StyleView",
            "_model_name": "DescriptionStyleModel",
            "description_width": "",
            "_view_module": "@jupyter-widgets/base",
            "_model_module_version": "1.5.0",
            "_view_count": null,
            "_view_module_version": "1.2.0",
            "_model_module": "@jupyter-widgets/controls"
          }
        },
        "61938c1cd94f4915abc2e42080e413c6": {
          "model_module": "@jupyter-widgets/base",
          "model_name": "LayoutModel",
          "model_module_version": "1.2.0",
          "state": {
            "_view_name": "LayoutView",
            "grid_template_rows": null,
            "right": null,
            "justify_content": null,
            "_view_module": "@jupyter-widgets/base",
            "overflow": null,
            "_model_module_version": "1.2.0",
            "_view_count": null,
            "flex_flow": null,
            "width": null,
            "min_width": null,
            "border": null,
            "align_items": null,
            "bottom": null,
            "_model_module": "@jupyter-widgets/base",
            "top": null,
            "grid_column": null,
            "overflow_y": null,
            "overflow_x": null,
            "grid_auto_flow": null,
            "grid_area": null,
            "grid_template_columns": null,
            "flex": null,
            "_model_name": "LayoutModel",
            "justify_items": null,
            "grid_row": null,
            "max_height": null,
            "align_content": null,
            "visibility": null,
            "align_self": null,
            "height": null,
            "min_height": null,
            "padding": null,
            "grid_auto_rows": null,
            "grid_gap": null,
            "max_width": null,
            "order": null,
            "_view_module_version": "1.2.0",
            "grid_template_areas": null,
            "object_position": null,
            "object_fit": null,
            "grid_auto_columns": null,
            "margin": null,
            "display": null,
            "left": null
          }
        }
      }
    }
  },
  "cells": [
    {
      "cell_type": "markdown",
      "metadata": {
        "id": "view-in-github",
        "colab_type": "text"
      },
      "source": [
        "<a href=\"https://colab.research.google.com/github/manuelP88/text_classification/blob/main/gossip_vs_newspaper_text_classification.ipynb\" target=\"_parent\"><img src=\"https://colab.research.google.com/assets/colab-badge.svg\" alt=\"Open In Colab\"/></a>"
      ]
    },
    {
      "cell_type": "code",
      "metadata": {
        "colab": {
          "base_uri": "https://localhost:8080/"
        },
        "id": "Tya5dmHkxn0c",
        "outputId": "d025d65e-a3fd-4d3b-8baf-d1b4e740a885"
      },
      "source": [
        "!pip install datasets\n",
        "!pip install transformers\n",
        "!pip install torch"
      ],
      "execution_count": 37,
      "outputs": [
        {
          "output_type": "stream",
          "name": "stdout",
          "text": [
            "Requirement already satisfied: datasets in /usr/local/lib/python3.7/dist-packages (1.15.1)\n",
            "Requirement already satisfied: tqdm>=4.62.1 in /usr/local/lib/python3.7/dist-packages (from datasets) (4.62.3)\n",
            "Requirement already satisfied: xxhash in /usr/local/lib/python3.7/dist-packages (from datasets) (2.0.2)\n",
            "Requirement already satisfied: pandas in /usr/local/lib/python3.7/dist-packages (from datasets) (1.1.5)\n",
            "Requirement already satisfied: fsspec[http]>=2021.05.0 in /usr/local/lib/python3.7/dist-packages (from datasets) (2021.11.0)\n",
            "Requirement already satisfied: huggingface-hub<1.0.0,>=0.1.0 in /usr/local/lib/python3.7/dist-packages (from datasets) (0.1.2)\n",
            "Requirement already satisfied: importlib-metadata in /usr/local/lib/python3.7/dist-packages (from datasets) (4.8.2)\n",
            "Requirement already satisfied: pyarrow!=4.0.0,>=1.0.0 in /usr/local/lib/python3.7/dist-packages (from datasets) (3.0.0)\n",
            "Requirement already satisfied: dill in /usr/local/lib/python3.7/dist-packages (from datasets) (0.3.4)\n",
            "Requirement already satisfied: packaging in /usr/local/lib/python3.7/dist-packages (from datasets) (21.3)\n",
            "Requirement already satisfied: multiprocess in /usr/local/lib/python3.7/dist-packages (from datasets) (0.70.12.2)\n",
            "Requirement already satisfied: requests>=2.19.0 in /usr/local/lib/python3.7/dist-packages (from datasets) (2.23.0)\n",
            "Requirement already satisfied: aiohttp in /usr/local/lib/python3.7/dist-packages (from datasets) (3.8.1)\n",
            "Requirement already satisfied: numpy>=1.17 in /usr/local/lib/python3.7/dist-packages (from datasets) (1.19.5)\n",
            "Requirement already satisfied: typing-extensions>=3.7.4.3 in /usr/local/lib/python3.7/dist-packages (from huggingface-hub<1.0.0,>=0.1.0->datasets) (3.10.0.2)\n",
            "Requirement already satisfied: pyyaml in /usr/local/lib/python3.7/dist-packages (from huggingface-hub<1.0.0,>=0.1.0->datasets) (6.0)\n",
            "Requirement already satisfied: filelock in /usr/local/lib/python3.7/dist-packages (from huggingface-hub<1.0.0,>=0.1.0->datasets) (3.4.0)\n",
            "Requirement already satisfied: pyparsing!=3.0.5,>=2.0.2 in /usr/local/lib/python3.7/dist-packages (from packaging->datasets) (3.0.6)\n",
            "Requirement already satisfied: urllib3!=1.25.0,!=1.25.1,<1.26,>=1.21.1 in /usr/local/lib/python3.7/dist-packages (from requests>=2.19.0->datasets) (1.24.3)\n",
            "Requirement already satisfied: certifi>=2017.4.17 in /usr/local/lib/python3.7/dist-packages (from requests>=2.19.0->datasets) (2021.10.8)\n",
            "Requirement already satisfied: chardet<4,>=3.0.2 in /usr/local/lib/python3.7/dist-packages (from requests>=2.19.0->datasets) (3.0.4)\n",
            "Requirement already satisfied: idna<3,>=2.5 in /usr/local/lib/python3.7/dist-packages (from requests>=2.19.0->datasets) (2.10)\n",
            "Requirement already satisfied: frozenlist>=1.1.1 in /usr/local/lib/python3.7/dist-packages (from aiohttp->datasets) (1.2.0)\n",
            "Requirement already satisfied: yarl<2.0,>=1.0 in /usr/local/lib/python3.7/dist-packages (from aiohttp->datasets) (1.7.2)\n",
            "Requirement already satisfied: async-timeout<5.0,>=4.0.0a3 in /usr/local/lib/python3.7/dist-packages (from aiohttp->datasets) (4.0.1)\n",
            "Requirement already satisfied: multidict<7.0,>=4.5 in /usr/local/lib/python3.7/dist-packages (from aiohttp->datasets) (5.2.0)\n",
            "Requirement already satisfied: charset-normalizer<3.0,>=2.0 in /usr/local/lib/python3.7/dist-packages (from aiohttp->datasets) (2.0.7)\n",
            "Requirement already satisfied: attrs>=17.3.0 in /usr/local/lib/python3.7/dist-packages (from aiohttp->datasets) (21.2.0)\n",
            "Requirement already satisfied: aiosignal>=1.1.2 in /usr/local/lib/python3.7/dist-packages (from aiohttp->datasets) (1.2.0)\n",
            "Requirement already satisfied: asynctest==0.13.0 in /usr/local/lib/python3.7/dist-packages (from aiohttp->datasets) (0.13.0)\n",
            "Requirement already satisfied: zipp>=0.5 in /usr/local/lib/python3.7/dist-packages (from importlib-metadata->datasets) (3.6.0)\n",
            "Requirement already satisfied: pytz>=2017.2 in /usr/local/lib/python3.7/dist-packages (from pandas->datasets) (2018.9)\n",
            "Requirement already satisfied: python-dateutil>=2.7.3 in /usr/local/lib/python3.7/dist-packages (from pandas->datasets) (2.8.2)\n",
            "Requirement already satisfied: six>=1.5 in /usr/local/lib/python3.7/dist-packages (from python-dateutil>=2.7.3->pandas->datasets) (1.15.0)\n",
            "Requirement already satisfied: transformers in /usr/local/lib/python3.7/dist-packages (4.12.5)\n",
            "Requirement already satisfied: tqdm>=4.27 in /usr/local/lib/python3.7/dist-packages (from transformers) (4.62.3)\n",
            "Requirement already satisfied: packaging>=20.0 in /usr/local/lib/python3.7/dist-packages (from transformers) (21.3)\n",
            "Requirement already satisfied: huggingface-hub<1.0,>=0.1.0 in /usr/local/lib/python3.7/dist-packages (from transformers) (0.1.2)\n",
            "Requirement already satisfied: filelock in /usr/local/lib/python3.7/dist-packages (from transformers) (3.4.0)\n",
            "Requirement already satisfied: regex!=2019.12.17 in /usr/local/lib/python3.7/dist-packages (from transformers) (2019.12.20)\n",
            "Requirement already satisfied: tokenizers<0.11,>=0.10.1 in /usr/local/lib/python3.7/dist-packages (from transformers) (0.10.3)\n",
            "Requirement already satisfied: importlib-metadata in /usr/local/lib/python3.7/dist-packages (from transformers) (4.8.2)\n",
            "Requirement already satisfied: sacremoses in /usr/local/lib/python3.7/dist-packages (from transformers) (0.0.46)\n",
            "Requirement already satisfied: numpy>=1.17 in /usr/local/lib/python3.7/dist-packages (from transformers) (1.19.5)\n",
            "Requirement already satisfied: pyyaml>=5.1 in /usr/local/lib/python3.7/dist-packages (from transformers) (6.0)\n",
            "Requirement already satisfied: requests in /usr/local/lib/python3.7/dist-packages (from transformers) (2.23.0)\n",
            "Requirement already satisfied: typing-extensions>=3.7.4.3 in /usr/local/lib/python3.7/dist-packages (from huggingface-hub<1.0,>=0.1.0->transformers) (3.10.0.2)\n",
            "Requirement already satisfied: pyparsing!=3.0.5,>=2.0.2 in /usr/local/lib/python3.7/dist-packages (from packaging>=20.0->transformers) (3.0.6)\n",
            "Requirement already satisfied: zipp>=0.5 in /usr/local/lib/python3.7/dist-packages (from importlib-metadata->transformers) (3.6.0)\n",
            "Requirement already satisfied: certifi>=2017.4.17 in /usr/local/lib/python3.7/dist-packages (from requests->transformers) (2021.10.8)\n",
            "Requirement already satisfied: urllib3!=1.25.0,!=1.25.1,<1.26,>=1.21.1 in /usr/local/lib/python3.7/dist-packages (from requests->transformers) (1.24.3)\n",
            "Requirement already satisfied: chardet<4,>=3.0.2 in /usr/local/lib/python3.7/dist-packages (from requests->transformers) (3.0.4)\n",
            "Requirement already satisfied: idna<3,>=2.5 in /usr/local/lib/python3.7/dist-packages (from requests->transformers) (2.10)\n",
            "Requirement already satisfied: joblib in /usr/local/lib/python3.7/dist-packages (from sacremoses->transformers) (1.1.0)\n",
            "Requirement already satisfied: six in /usr/local/lib/python3.7/dist-packages (from sacremoses->transformers) (1.15.0)\n",
            "Requirement already satisfied: click in /usr/local/lib/python3.7/dist-packages (from sacremoses->transformers) (7.1.2)\n",
            "Requirement already satisfied: torch in /usr/local/lib/python3.7/dist-packages (1.10.0+cu111)\n",
            "Requirement already satisfied: typing-extensions in /usr/local/lib/python3.7/dist-packages (from torch) (3.10.0.2)\n"
          ]
        }
      ]
    },
    {
      "cell_type": "code",
      "metadata": {
        "id": "ot359abHysPy"
      },
      "source": [
        "import warnings\n",
        "\n",
        "from datasets import load_dataset, DatasetDict\n",
        "import pandas as pd\n",
        "import torch\n",
        "import torch.utils.data as torch_data\n",
        "from transformers import DistilBertModel, DistilBertTokenizer, AdamW, DistilBertForSequenceClassification\n",
        "from datasets import load_metric\n",
        "import transformers.modeling_outputs\n",
        "from transformers import get_scheduler\n",
        "\n",
        "from torch import cuda\n",
        "from tqdm.auto import tqdm\n",
        "import matplotlib.pyplot as plt\n",
        "\n",
        "import types"
      ],
      "execution_count": 38,
      "outputs": []
    },
    {
      "cell_type": "code",
      "metadata": {
        "id": "BGWYW-cj0HGG"
      },
      "source": [
        "def require_not_None(obj, message=\"Require not None\") -> object:\n",
        "    if obj is None:\n",
        "        raise Exception(message)\n",
        "    return obj\n",
        "\n",
        "def load_dataset_from_csv_enc_labels(csv_path=None) -> pd.DataFrame:\n",
        "    require_not_None(csv_path)\n",
        "    # Import the csv into pandas dataframe and add the headers\n",
        "    df = pd.read_csv(\n",
        "        csv_path,\n",
        "        sep='§',\n",
        "        #names=['url', 'domain', 'label', 'title', 'text'],\n",
        "        engine='python'\n",
        "    )\n",
        "    df = df[['domain', 'text', 'label']]\n",
        "\n",
        "    encode_dict = {}\n",
        "\n",
        "    def encode_cat(x):\n",
        "        if x not in encode_dict.keys():\n",
        "            encode_dict[x] = len(encode_dict)\n",
        "        return encode_dict[x]\n",
        "\n",
        "    df['enc_label'] = df['label'].apply(lambda x: encode_cat(x))\n",
        "    if len(encode_dict.keys()) != 2: raise Exception(\"error! More tan 2 categories are detected!\")\n",
        "    return df"
      ],
      "execution_count": 39,
      "outputs": []
    },
    {
      "cell_type": "code",
      "metadata": {
        "id": "CpDE8j_V0UtM"
      },
      "source": [
        "def train_test_split(train:pd.DataFrame, frac: float = 0.8, random_state:int=200):\n",
        "    require_not_None(train)\n",
        "    require_not_None(frac)\n",
        "\n",
        "    train_dataset = train.sample(frac=frac, random_state=random_state)\n",
        "    test_dataset = train.drop(train_dataset.index).reset_index(drop=True)\n",
        "    train_dataset = train_dataset.reset_index(drop=True)\n",
        "\n",
        "\n",
        "    return train_dataset, test_dataset"
      ],
      "execution_count": 40,
      "outputs": []
    },
    {
      "cell_type": "code",
      "metadata": {
        "id": "o6IRHSzF-0Lg"
      },
      "source": [
        "batch_size = 16\n",
        "LEARNING_RATE = 1e-05\n",
        "num_epochs = 8"
      ],
      "execution_count": 41,
      "outputs": []
    },
    {
      "cell_type": "code",
      "metadata": {
        "id": "JbwZ7DXa0ZU6",
        "colab": {
          "base_uri": "https://localhost:8080/"
        },
        "outputId": "47318658-539e-4766-9794-af8e784cec51"
      },
      "source": [
        "from google.colab import drive\n",
        "drive.mount('/drive')\n",
        "\n",
        "ds2 = '/drive/My Drive/Colab Notebooks/datasets/gossip_vs_newspaper.csv'\n",
        "model_out = '/drive/My Drive/Colab Notebooks/models/gossip_vs_newspaper_model'\n",
        "\n",
        "\n",
        "df = load_dataset_from_csv_enc_labels( ds2 )  "
      ],
      "execution_count": 42,
      "outputs": [
        {
          "output_type": "stream",
          "name": "stdout",
          "text": [
            "Drive already mounted at /drive; to attempt to forcibly remount, call drive.mount(\"/drive\", force_remount=True).\n"
          ]
        }
      ]
    },
    {
      "cell_type": "code",
      "metadata": {
        "colab": {
          "base_uri": "https://localhost:8080/"
        },
        "id": "cCMA8PSspwB3",
        "outputId": "a0e5103b-39b8-4ecb-ce8d-afd9b864b79d"
      },
      "source": [
        "df.label.value_counts()"
      ],
      "execution_count": 43,
      "outputs": [
        {
          "output_type": "execute_result",
          "data": {
            "text/plain": [
              "gossip       25064\n",
              "newspaper    14905\n",
              "Name: label, dtype: int64"
            ]
          },
          "metadata": {},
          "execution_count": 43
        }
      ]
    },
    {
      "cell_type": "code",
      "metadata": {
        "colab": {
          "base_uri": "https://localhost:8080/"
        },
        "id": "ukt7sIgarpo0",
        "outputId": "eb488115-e015-4b89-f904-415893fab398"
      },
      "source": [
        "train_dataset, test_dataset = train_test_split(df, frac=0.2)#0,8\n",
        "train_dataset, val_dataset = train_test_split(train_dataset, frac=0.8)\n",
        "warnings.warn(\"What are the right dimensions of train-validation-test sets?\")\n",
        "\n",
        "print(\"FULL Dataset: {}\".format(df.shape))\n",
        "print(\"TRAIN Dataset: {}\".format(train_dataset.shape))\n",
        "print(\"TEST Dataset: {}\".format(test_dataset.shape))\n",
        "print(\"VALID Dataset: {}\".format(val_dataset.shape)) "
      ],
      "execution_count": 44,
      "outputs": [
        {
          "output_type": "stream",
          "name": "stdout",
          "text": [
            "FULL Dataset: (39969, 4)\n",
            "TRAIN Dataset: (6395, 4)\n",
            "TEST Dataset: (31975, 4)\n",
            "VALID Dataset: (1599, 4)\n"
          ]
        },
        {
          "output_type": "stream",
          "name": "stderr",
          "text": [
            "/usr/local/lib/python3.7/dist-packages/ipykernel_launcher.py:3: UserWarning: What are the right dimensions of train-validation-test sets?\n",
            "  This is separate from the ipykernel package so we can avoid doing imports until\n"
          ]
        }
      ]
    },
    {
      "cell_type": "code",
      "metadata": {
        "colab": {
          "base_uri": "https://localhost:8080/",
          "height": 342
        },
        "id": "epdPSEdIlD2M",
        "outputId": "915faf85-247a-4215-961e-744d78f2601a"
      },
      "source": [
        "df.groupby(\"label\")[\"label\"].count().plot(kind='bar')"
      ],
      "execution_count": 45,
      "outputs": [
        {
          "output_type": "execute_result",
          "data": {
            "text/plain": [
              "<matplotlib.axes._subplots.AxesSubplot at 0x7f2a377fa9d0>"
            ]
          },
          "metadata": {},
          "execution_count": 45
        },
        {
          "output_type": "display_data",
          "data": {
            "image/png": "[encoded data removed]",
            "text/plain": [
              "<Figure size 432x288 with 1 Axes>"
            ]
          },
          "metadata": {
            "needs_background": "light"
          }
        }
      ]
    },
    {
      "cell_type": "code",
      "metadata": {
        "id": "S2rXrQUeqK0c",
        "colab": {
          "base_uri": "https://localhost:8080/",
          "height": 342
        },
        "outputId": "7f0809f2-f1cb-4d32-9a76-6acc20501b23"
      },
      "source": [
        "train_dataset.groupby(\"label\")[\"label\"].count().plot(kind='bar')"
      ],
      "execution_count": 46,
      "outputs": [
        {
          "output_type": "execute_result",
          "data": {
            "text/plain": [
              "<matplotlib.axes._subplots.AxesSubplot at 0x7f2a1fdee9d0>"
            ]
          },
          "metadata": {},
          "execution_count": 46
        },
        {
          "output_type": "display_data",
          "data": {
            "image/png": "[encoded data removed]",
            "text/plain": [
              "<Figure size 432x288 with 1 Axes>"
            ]
          },
          "metadata": {
            "needs_background": "light"
          }
        }
      ]
    },
    {
      "cell_type": "code",
      "metadata": {
        "colab": {
          "base_uri": "https://localhost:8080/",
          "height": 342
        },
        "id": "R8eUfLKmqC6b",
        "outputId": "1b4f54c7-e566-4f1e-8ba5-213786f7a29b"
      },
      "source": [
        "test_dataset.groupby(\"label\")[\"label\"].count().plot(kind='bar')"
      ],
      "execution_count": 47,
      "outputs": [
        {
          "output_type": "execute_result",
          "data": {
            "text/plain": [
              "<matplotlib.axes._subplots.AxesSubplot at 0x7f2a33e2fa50>"
            ]
          },
          "metadata": {},
          "execution_count": 47
        },
        {
          "output_type": "display_data",
          "data": {
            "image/png": "[encoded data removed]",
            "text/plain": [
              "<Figure size 432x288 with 1 Axes>"
            ]
          },
          "metadata": {
            "needs_background": "light"
          }
        }
      ]
    },
    {
      "cell_type": "code",
      "metadata": {
        "colab": {
          "base_uri": "https://localhost:8080/",
          "height": 342
        },
        "id": "NyXzdCNHqF_b",
        "outputId": "5a3a0d75-0cf3-48c5-c65d-299fb9b44601"
      },
      "source": [
        "val_dataset.groupby(\"label\")[\"label\"].count().plot(kind='bar')"
      ],
      "execution_count": 48,
      "outputs": [
        {
          "output_type": "execute_result",
          "data": {
            "text/plain": [
              "<matplotlib.axes._subplots.AxesSubplot at 0x7f2a1fff4990>"
            ]
          },
          "metadata": {},
          "execution_count": 48
        },
        {
          "output_type": "display_data",
          "data": {
            "image/png": "[encoded data removed]",
            "text/plain": [
              "<Figure size 432x288 with 1 Axes>"
            ]
          },
          "metadata": {
            "needs_background": "light"
          }
        }
      ]
    },
    {
      "cell_type": "code",
      "metadata": {
        "id": "HSR_hPIj11G2"
      },
      "source": [
        "class GossipScience(torch_data.Dataset):\n",
        "\n",
        "    def __init__(self, dataframe, tokenizer, max_len=512):\n",
        "        self.len = len(dataframe)\n",
        "        self.data = dataframe\n",
        "        self.tokenizer = tokenizer\n",
        "        self.max_len = max_len\n",
        "\n",
        "    def _get_value(self, index):\n",
        "        text = str(self.data.text[index])\n",
        "        text = \" \".join(text.split())\n",
        "        return text\n",
        "\n",
        "    def __getitem__(self, index):\n",
        "        value = self._get_value(index)\n",
        "\n",
        "        inputs = self.tokenizer.encode_plus(\n",
        "            value, add_special_tokens=True,\n",
        "            max_length=self.max_len, truncation=True,\n",
        "            padding=\"max_length\"\n",
        "        )\n",
        "        return {\n",
        "            'input_ids': torch.tensor(inputs['input_ids'], dtype=torch.long),\n",
        "            'attention_mask': torch.tensor(inputs['attention_mask'], dtype=torch.long),\n",
        "            'labels': torch.tensor(self.data.enc_label[index], dtype=torch.long)\n",
        "        }\n",
        "\n",
        "    def get_my_item(self, index):\n",
        "      return self.__getitem__(index)\n",
        "\n",
        "    def __len__(self):\n",
        "        return self.len\n"
      ],
      "execution_count": 49,
      "outputs": []
    },
    {
      "cell_type": "code",
      "metadata": {
        "id": "Jal5sPrE2AB3",
        "colab": {
          "base_uri": "https://localhost:8080/"
        },
        "outputId": "989e868f-9ca1-4db9-a015-489bc00556f3"
      },
      "source": [
        "checkpoint = 'distilbert-base-cased'\n",
        "tokenizer = DistilBertTokenizer.from_pretrained( checkpoint )\n",
        "training_set = GossipScience(train_dataset, tokenizer)\n",
        "testing_set = GossipScience(test_dataset, tokenizer)\n",
        "validation_set = GossipScience(val_dataset, tokenizer)\n",
        "\n",
        "train_params = {'batch_size': batch_size, 'shuffle': True}\n",
        "test_params = {'batch_size': batch_size, 'shuffle': True}\n",
        "validation_params = {'batch_size': batch_size, 'shuffle': True}\n",
        "\n",
        "device = torch.device('cuda') if torch.cuda.is_available() else torch.device('cpu')\n",
        "training_loader:torch_data.DataLoader = torch_data.DataLoader(training_set, **train_params)\n",
        "test_loader:torch_data.DataLoader = torch_data.DataLoader(testing_set, **test_params)\n",
        "validation_loader:torch_data.DataLoader = torch_data.DataLoader(validation_set, **validation_params)\n",
        "\n",
        "model = DistilBertForSequenceClassification.from_pretrained( checkpoint )\n",
        "\n",
        "warnings.warn(\"You have to train a more complex model!\")\n"
      ],
      "execution_count": 50,
      "outputs": [
        {
          "output_type": "stream",
          "name": "stderr",
          "text": [
            "Some weights of the model checkpoint at distilbert-base-cased were not used when initializing DistilBertForSequenceClassification: ['vocab_projector.weight', 'vocab_transform.bias', 'vocab_layer_norm.bias', 'vocab_transform.weight', 'vocab_projector.bias', 'vocab_layer_norm.weight']\n",
            "- This IS expected if you are initializing DistilBertForSequenceClassification from the checkpoint of a model trained on another task or with another architecture (e.g. initializing a BertForSequenceClassification model from a BertForPreTraining model).\n",
            "- This IS NOT expected if you are initializing DistilBertForSequenceClassification from the checkpoint of a model that you expect to be exactly identical (initializing a BertForSequenceClassification model from a BertForSequenceClassification model).\n",
            "Some weights of DistilBertForSequenceClassification were not initialized from the model checkpoint at distilbert-base-cased and are newly initialized: ['classifier.weight', 'pre_classifier.bias', 'pre_classifier.weight', 'classifier.bias']\n",
            "You should probably TRAIN this model on a down-stream task to be able to use it for predictions and inference.\n",
            "/usr/local/lib/python3.7/dist-packages/ipykernel_launcher.py:18: UserWarning: You have to train a more complex model!\n"
          ]
        }
      ]
    },
    {
      "cell_type": "code",
      "metadata": {
        "id": "zs_LTmxiBQMe",
        "colab": {
          "base_uri": "https://localhost:8080/"
        },
        "outputId": "6ee8e7e1-b133-41cf-a0ce-5562c7896dac"
      },
      "source": [
        "import torch\n",
        "torch.cuda.is_available()"
      ],
      "execution_count": 51,
      "outputs": [
        {
          "output_type": "execute_result",
          "data": {
            "text/plain": [
              "True"
            ]
          },
          "metadata": {},
          "execution_count": 51
        }
      ]
    },
    {
      "cell_type": "code",
      "metadata": {
        "colab": {
          "base_uri": "https://localhost:8080/"
        },
        "id": "8lJkKDDZ7HMS",
        "outputId": "77dff347-3078-4cba-ee5b-95d870cd4cda"
      },
      "source": [
        "training_loader"
      ],
      "execution_count": 52,
      "outputs": [
        {
          "output_type": "execute_result",
          "data": {
            "text/plain": [
              "<torch.utils.data.dataloader.DataLoader at 0x7f2a30542f90>"
            ]
          },
          "metadata": {},
          "execution_count": 52
        }
      ]
    },
    {
      "cell_type": "code",
      "metadata": {
        "id": "VNJS9ax5e1AH",
        "colab": {
          "base_uri": "https://localhost:8080/",
          "height": 191,
          "referenced_widgets": [
            "47cea05002604e43a380b96eae50a70d",
            "cfe570b5abf04c08922a53529d806bfa",
            "86d68c4ae19543e583a3f894d543f38e",
            "df2215b143af4f1680bcb5d1f78c9818",
            "a21305adbabb40848e08ab62bdcea4c1",
            "19efcfeef848482f8567c37d5db977ac",
            "bb0835fdd66e41ce90e2852465ece039",
            "37805b81d532459a9b76c56c70c09fc8",
            "eacb218388c944bd84cdbeaf2cd70795",
            "64c90772b6c44b30a75cffa53f361756",
            "61938c1cd94f4915abc2e42080e413c6"
          ]
        },
        "outputId": "5697440e-e7a6-4c05-888f-28852678a33c"
      },
      "source": [
        "optimizer = AdamW(model.parameters(), lr=LEARNING_RATE)\n",
        "\n",
        "num_training_steps = num_epochs * len(training_loader)\n",
        "progress_bar = tqdm(range(num_training_steps))\n",
        "lr_scheduler = get_scheduler(\n",
        "        \"linear\",\n",
        "        optimizer=optimizer,\n",
        "        num_warmup_steps=0,\n",
        "        num_training_steps=num_training_steps\n",
        "    )\n",
        "\n",
        "loss_fct = torch.nn.CrossEntropyLoss()\n",
        "\n",
        "model.to(device)\n",
        " \n",
        "accuracies:dict = {}\n",
        "avg_training_loss: dict = {}\n",
        "avg_validation_loss: dict = {}\n",
        "validation_accuracy: dict = {}\n",
        "\n",
        "for epoch in range(num_epochs):\n",
        "  accuracies[epoch] = []\n",
        "  training_loss = 0.0\n",
        "  valid_loss = 0.0\n",
        "\n",
        "  tr_accuracy = load_metric(\"accuracy\")\n",
        "\n",
        "  model.train()\n",
        "  count=0\n",
        "  for batch in training_loader:\n",
        "    optimizer.zero_grad()\n",
        "    batch = {k: v.to(device) for k, v in batch.items()}\n",
        "    outputs = model(**batch)\n",
        "    loss = loss_fct(outputs.get('logits'), batch.get(\"labels\"))\n",
        "\n",
        "    predictions = torch.argmax(outputs.get('logits'), dim=-1)\n",
        "    tr_accuracy.add_batch(predictions=predictions, references=batch[\"labels\"])\n",
        "    accuracies[epoch].append( tr_accuracy.compute()['accuracy'] )\n",
        "    \n",
        "    loss.backward()\n",
        "    optimizer.step()\n",
        "    training_loss+=loss.data.item()\n",
        "    lr_scheduler.step()\n",
        "    progress_bar.update(1)\n",
        "\n",
        "    count=count+1\n",
        "  \n",
        "  training_loss/=len(training_loader)\n",
        "  avg_training_loss[epoch] = training_loss\n",
        "    \n",
        "  accuracy = load_metric(\"accuracy\")\n",
        "    \n",
        "  model.eval()\n",
        "  for batch in validation_loader:\n",
        "    batch = {k: v.to(device) for k, v in batch.items()}\n",
        "    with torch.no_grad():\n",
        "      outputs = model(**batch)\n",
        "        \n",
        "    loss = loss_fct(outputs.get('logits'), batch.get(\"labels\"))\n",
        "    valid_loss+=loss.data.item()\n",
        "    predictions = torch.argmax(outputs.get('logits'), dim=-1)\n",
        "    accuracy.add_batch(predictions=predictions, references=batch[\"labels\"])\n",
        "  \n",
        "  valid_loss/=len(validation_loader)\n",
        "  avg_validation_loss[epoch] = valid_loss\n",
        "  validation_accuracy[epoch] = accuracy.compute()['accuracy']\n",
        "\n",
        "  print(\"Epoch: \"+str(epoch)+\", Training Loss: \"+str(avg_training_loss[epoch])+\", Validation Loss: \"+str(avg_validation_loss[epoch])+\", accuracy = \"+str(validation_accuracy[epoch]))"
      ],
      "execution_count": 53,
      "outputs": [
        {
          "output_type": "display_data",
          "data": {
            "application/vnd.jupyter.widget-view+json": {
              "model_id": "47cea05002604e43a380b96eae50a70d",
              "version_minor": 0,
              "version_major": 2
            },
            "text/plain": [
              "  0%|          | 0/3200 [00:00<?, ?it/s]"
            ]
          },
          "metadata": {}
        },
        {
          "output_type": "stream",
          "name": "stdout",
          "text": [
            "Epoch: 0, Training Loss: 0.17706415960099547, Validation Loss: 0.08061480089556426, accuracy = 0.9724828017510945\n",
            "Epoch: 1, Training Loss: 0.05507772260403726, Validation Loss: 0.06195395671296865, accuracy = 0.9793621013133208\n",
            "Epoch: 2, Training Loss: 0.027139880566101057, Validation Loss: 0.044682529179845006, accuracy = 0.9862414008755472\n",
            "Epoch: 3, Training Loss: 0.013751222821156261, Validation Loss: 0.04280638775497209, accuracy = 0.9856160100062539\n",
            "Epoch: 4, Training Loss: 0.007626802170998417, Validation Loss: 0.04697390971763525, accuracy = 0.9856160100062539\n",
            "Epoch: 5, Training Loss: 0.0057395231920963855, Validation Loss: 0.07436417186807376, accuracy = 0.981863664790494\n",
            "Epoch: 6, Training Loss: 0.0019601101202715654, Validation Loss: 0.04855231934285257, accuracy = 0.9881175734834271\n",
            "Epoch: 7, Training Loss: 0.0012755053675209639, Validation Loss: 0.05443436477813521, accuracy = 0.9849906191369606\n"
          ]
        }
      ]
    },
    {
      "cell_type": "code",
      "metadata": {
        "id": "5H65DtkXEB83"
      },
      "source": [
        "\n",
        "def plot_multiple_line(points:list=None, xlabel:str=None, ylabel:str=None, title:str=None):\n",
        "  plt.figure()\n",
        "  x_axis:int = range(0, max( [len(i) for i in points] ))\n",
        "  for i in range(len(points)):\n",
        "    plt.plot(x_axis, [x for x in points[i]])\n",
        "  plt.xlabel(xlabel)\n",
        "  plt.ylabel(ylabel)\n",
        "  plt.title(title) "
      ],
      "execution_count": 54,
      "outputs": []
    },
    {
      "cell_type": "code",
      "metadata": {
        "id": "9-PPZsQEHbzG"
      },
      "source": [
        "def plot_dict(d:dict=None, xlabel:str=None, ylabel:str=None, title:str=None):\n",
        "  lists = sorted(d.items()) # sorted by key, return a list of tuples\n",
        "  x, y = zip(*lists) # unpack a list of pairs into two tuples\n",
        "  plt.plot(x, y)\n",
        "  plt.xlabel(xlabel)\n",
        "  plt.ylabel(ylabel)\n",
        "  plt.title(title)"
      ],
      "execution_count": 55,
      "outputs": []
    },
    {
      "cell_type": "code",
      "metadata": {
        "id": "YKqm7R-J5BHt",
        "colab": {
          "base_uri": "https://localhost:8080/",
          "height": 294
        },
        "outputId": "a4f4dc33-7096-49f6-e494-d1602ecc1ca3"
      },
      "source": [
        "plot_multiple_line(list(accuracies.values()), 'batch', 'accuracy', 'Training Accuracy vs. Batches in same epoch')"
      ],
      "execution_count": 56,
      "outputs": [
        {
          "output_type": "display_data",
          "data": {
            "image/png": "[encoded data removed]",
            "text/plain": [
              "<Figure size 432x288 with 1 Axes>"
            ]
          },
          "metadata": {
            "needs_background": "light"
          }
        }
      ]
    },
    {
      "cell_type": "code",
      "metadata": {
        "id": "aGZMi8v59ymm",
        "colab": {
          "base_uri": "https://localhost:8080/",
          "height": 294
        },
        "outputId": "9d861e16-4354-4837-fdea-91135666f78f"
      },
      "source": [
        "plot_dict(avg_training_loss, 'epoch', 'loss', 'Training Loss vs. No. of epochs')"
      ],
      "execution_count": 57,
      "outputs": [
        {
          "output_type": "display_data",
          "data": {
            "image/png": "[encoded data removed]",
            "text/plain": [
              "<Figure size 432x288 with 1 Axes>"
            ]
          },
          "metadata": {
            "needs_background": "light"
          }
        }
      ]
    },
    {
      "cell_type": "code",
      "metadata": {
        "id": "_2hATy45JcA5",
        "colab": {
          "base_uri": "https://localhost:8080/",
          "height": 294
        },
        "outputId": "45db15c0-b428-4823-c5b5-27dc50c4ca48"
      },
      "source": [
        "plot_dict(avg_validation_loss, 'epoch', 'loss', 'Validation Loss vs. No. of epochs')"
      ],
      "execution_count": 58,
      "outputs": [
        {
          "output_type": "display_data",
          "data": {
            "image/png": "[encoded data removed]",
            "text/plain": [
              "<Figure size 432x288 with 1 Axes>"
            ]
          },
          "metadata": {
            "needs_background": "light"
          }
        }
      ]
    },
    {
      "cell_type": "code",
      "metadata": {
        "id": "g67OosbdJuYj",
        "colab": {
          "base_uri": "https://localhost:8080/",
          "height": 294
        },
        "outputId": "9d175edb-be88-42a7-c9ef-1f06bf8c0eed"
      },
      "source": [
        "plot_dict(validation_accuracy, 'epoch', 'accuracy', 'Validation Accuracy vs. No. of epochs')"
      ],
      "execution_count": 59,
      "outputs": [
        {
          "output_type": "display_data",
          "data": {
            "image/png": "[encoded data removed]",
            "text/plain": [
              "<Figure size 432x288 with 1 Axes>"
            ]
          },
          "metadata": {
            "needs_background": "light"
          }
        }
      ]
    },
    {
      "cell_type": "code",
      "metadata": {
        "colab": {
          "base_uri": "https://localhost:8080/"
        },
        "id": "kL-h0c7HSr9_",
        "outputId": "60457701-38a0-4b19-fe8e-044d5530db91"
      },
      "source": [
        "test_accuracy = load_metric(\"accuracy\")\n",
        "avg_test_loss = 0\n",
        "\n",
        "model.eval()\n",
        "for batch in test_loader:\n",
        "  batch = {k: v.to(device) for k, v in batch.items()}\n",
        "  with torch.no_grad():\n",
        "    outputs = model(**batch)\n",
        "        \n",
        "  loss = loss_fct(outputs.get('logits'), batch.get(\"labels\"))\n",
        "  avg_test_loss+=loss.data.item()\n",
        "  predictions = torch.argmax(outputs.get('logits'), dim=-1)\n",
        "  test_accuracy.add_batch(predictions=predictions, references=batch[\"labels\"])\n",
        "  \n",
        "avg_test_loss/=len(test_loader)\n",
        "\n",
        "print(\"Test Loss: \"+str(avg_test_loss)+\", accuracy = \"+str(test_accuracy.compute()['accuracy']))"
      ],
      "execution_count": 60,
      "outputs": [
        {
          "output_type": "stream",
          "name": "stdout",
          "text": [
            "Test Loss: 0.049302231434893644, accuracy = 0.9875527756059421\n"
          ]
        }
      ]
    },
    {
      "cell_type": "code",
      "metadata": {
        "id": "9IKDvSW43Yjn"
      },
      "source": [
        "torch.save(model, model_out)"
      ],
      "execution_count": 61,
      "outputs": []
    }
  ]
}